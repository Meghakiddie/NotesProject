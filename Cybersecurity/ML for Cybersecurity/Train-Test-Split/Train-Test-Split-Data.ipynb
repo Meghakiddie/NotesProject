{
 "cells": [
  {
   "cell_type": "code",
   "execution_count": 1,
   "id": "prescribed-forth",
   "metadata": {},
   "outputs": [
    {
     "name": "stderr",
     "output_type": "stream",
     "text": [
      "<frozen importlib._bootstrap>:219: RuntimeWarning: numpy.ufunc size changed, may indicate binary incompatibility. Expected 192 from C header, got 216 from PyObject\n"
     ]
    }
   ],
   "source": [
    "# Importing Libraries & Modules\n",
    "\n",
    "from sklearn.model_selection import train_test_split\n",
    "import pandas as pd"
   ]
  },
  {
   "cell_type": "code",
   "execution_count": 4,
   "id": "iraqi-refund",
   "metadata": {},
   "outputs": [],
   "source": [
    "# Importing/Loading Dataset\n",
    "\n",
    "df = pd.read_csv(\"north_korea_missile_test_database.csv\")"
   ]
  },
  {
   "cell_type": "code",
   "execution_count": 5,
   "id": "violent-trust",
   "metadata": {},
   "outputs": [],
   "source": [
    "y = df[\"Missile Name\"]\n",
    "X = df.drop(\"Missile Name\", axis=1)"
   ]
  },
  {
   "cell_type": "code",
   "execution_count": 6,
   "id": "satisfied-jefferson",
   "metadata": {},
   "outputs": [],
   "source": [
    "X_train, X_test, y_train, y_test = train_test_split(X, y, test_size=0.2, random_state=31)"
   ]
  },
  {
   "cell_type": "code",
   "execution_count": 7,
   "id": "infrared-jerusalem",
   "metadata": {},
   "outputs": [],
   "source": [
    "X_train, X_val, y_train, y_val = train_test_split(X_train, y_train, test_size=0.25, random_state=31)"
   ]
  },
  {
   "cell_type": "code",
   "execution_count": 8,
   "id": "informative-julian",
   "metadata": {},
   "outputs": [
    {
     "name": "stdout",
     "output_type": "stream",
     "text": [
      "81\n",
      "81\n",
      "27\n",
      "27\n",
      "27\n",
      "27\n"
     ]
    }
   ],
   "source": [
    "print(len(X_train))\n",
    "print(len(y_train))\n",
    "print(len(X_val))\n",
    "print(len(y_val))\n",
    "print(len(X_test))\n",
    "print(len(y_test))"
   ]
  },
  {
   "cell_type": "code",
   "execution_count": null,
   "id": "employed-things",
   "metadata": {},
   "outputs": [],
   "source": []
  }
 ],
 "metadata": {
  "kernelspec": {
   "display_name": "Python 3",
   "language": "python",
   "name": "python3"
  },
  "language_info": {
   "codemirror_mode": {
    "name": "ipython",
    "version": 3
   },
   "file_extension": ".py",
   "mimetype": "text/x-python",
   "name": "python",
   "nbconvert_exporter": "python",
   "pygments_lexer": "ipython3",
   "version": "3.8.3"
  }
 },
 "nbformat": 4,
 "nbformat_minor": 5
}
